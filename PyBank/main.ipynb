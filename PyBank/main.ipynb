{
 "cells": [
  {
   "cell_type": "code",
   "execution_count": 108,
   "id": "c5a5b546-fec4-45bb-baa6-20eccff3af70",
   "metadata": {},
   "outputs": [
    {
     "name": "stdout",
     "output_type": "stream",
     "text": [
      "The total number of months included in the dataset: 86\n",
      "The net total amount of Profit/Losses over the entire period: 38382578\n",
      "The average of the changes in Profit/Losses over the entire period: -2315.12\n",
      "The greatest increase in Profit is Feb-2012: 1926159\n",
      "The greatest increase in Profit is Sep-2013: -2196167\n"
     ]
    }
   ],
   "source": [
    "# Import the pathlib and csv library\n",
    "from pathlib import Path\n",
    "import csv\n",
    "\n",
    "# Set the file path\n",
    "csvpath = Path('Resources/budget_data.csv')\n",
    "# Set the output file path\n",
    "output_path = Path(\"output.txt\")\n",
    "\n",
    "# Initialize variable to hold Profit/loss\n",
    "month = []\n",
    "profit = []\n",
    "monthly_change = []\n",
    "\n",
    "\n",
    "# Define avarge of a list function\n",
    "def average_list(lst):\n",
    "    return sum(lst) / len(lst)\n",
    "\n",
    "# Open the input path as a file object\n",
    "with open(csvpath, 'r') as csvfile:\n",
    "   \n",
    "    # Pass in the csv file to the csv.reader() function\n",
    "    # (with ',' as the delmiter/separator) and return the csvreader object\n",
    "    csvreader = csv.reader(csvfile, delimiter=',')\n",
    "    # Go to the next row from the start of the file\n",
    "    # (which is often the first row/header) and iterate line_num by 1\n",
    "    header = next(csvreader)\n",
    "    \n",
    "    # Go through the CSV and add month to month[] and profit to profit[]\n",
    "    for row in csvreader:\n",
    "        # Append each month trading value to the list \n",
    "        month.append(row[0])\n",
    "        profit.append(int(row[1]))\n",
    "    \n",
    "    # Go through monthly profit and get the monthly change\n",
    "    for i in range(len(profit)-1):\n",
    "        #change value each month\n",
    "        change = profit[i+1]-profit[i]\n",
    "        monthly_change.append(int(change))\n",
    "    \n",
    "    #Binding parameters:\n",
    "    average_monthly_change = round(average_list(monthly_change), 2)\n",
    "    greatest_increase_profit = max(monthly_change)\n",
    "    greatest_increase_month = month[monthly_change.index(greatest_increase_profit) +1]\n",
    "    greatest_decrease_profit = min(monthly_change)\n",
    "    greatest_decrease_month = month[monthly_change.index(greatest_decrease_profit) +1]\n",
    "    \n",
    "    print(f\"The total number of months included in the dataset: {len(month)}\")\n",
    "    print(f\"The net total amount of Profit/Losses over the entire period: {sum(profit)}\")\n",
    "    print(f\"The average of the changes in Profit/Losses over the entire period: {average_monthly_change}\")\n",
    "    print(f\"The greatest increase in Profit is {greatest_increase_month}: {greatest_increase_profit}\")\n",
    "    print(f\"The greatest increase in Profit is {greatest_decrease_month}: {greatest_decrease_profit}\")\n",
    "    \n",
    "# Open the output_path as a file object in \"write\" mode ('w')\n",
    "# Write a header line and write the contents of 'text' to the file\n",
    "with open(output_path, 'w') as file:\n",
    "    file.write(\"Financial Analysis\\n\")\n",
    "    file.write(\"---\")\n",
    "\n",
    "    file.write(f\"The total number of months included in the dataset: {len(month)}\")\n",
    "    file.write(f\"The net total amount of Profit/Losses over the entire period: {sum(profit)}\")\n",
    "    file.write(f\"The average of the changes in Profit/Losses over the entire period: {average_monthly_change}\")\n",
    "    file.write(f\"The greatest increase in Profit is {greatest_increase_month}: {greatest_increase_profit}\")\n",
    "    file.write(f\"The greatest increase in Profit is {greatest_decrease_month}: {greatest_decrease_profit}\")"
   ]
  },
  {
   "cell_type": "code",
   "execution_count": null,
   "id": "834a59c1-259f-4457-9a2e-d4ca31bdc0e6",
   "metadata": {},
   "outputs": [],
   "source": []
  }
 ],
 "metadata": {
  "kernelspec": {
   "display_name": "Python 3",
   "language": "python",
   "name": "python3"
  },
  "language_info": {
   "codemirror_mode": {
    "name": "ipython",
    "version": 3
   },
   "file_extension": ".py",
   "mimetype": "text/x-python",
   "name": "python",
   "nbconvert_exporter": "python",
   "pygments_lexer": "ipython3",
   "version": "3.8.5"
  }
 },
 "nbformat": 4,
 "nbformat_minor": 5
}
